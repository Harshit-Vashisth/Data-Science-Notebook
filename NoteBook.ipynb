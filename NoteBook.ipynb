{
 "cells": [
  {
   "cell_type": "markdown",
   "id": "e4dd8140",
   "metadata": {},
   "source": [
    "# Data Science NoteBook\n"
   ]
  },
  {
   "cell_type": "markdown",
   "id": "54160bf9",
   "metadata": {},
   "source": [
    "## Introduction\n",
    "Welcome to this notebook on Data Science! In this notebook, we'll be exploring some of the tools and techniques used in the field of data science, including popular programming languages, libraries, and tools. We'll also be looking at some examples of arithmetic expressions that are commonly used in data analysis"
   ]
  },
  {
   "cell_type": "markdown",
   "id": "33faedd2",
   "metadata": {},
   "source": [
    "### Data Science Languages\n",
    "Here's a markdown cell to list some popular data science languages:\n",
    "\n",
    "**Python:** Python is one of the most popular programming languages used in data science. It has a large and active community that creates libraries and frameworks for data analysis, machine learning, and visualization.\n",
    "\n",
    "**R:** R is a language specifically designed for data analysis and statistical computing. It has a large and active community of users and developers, and is popular in academic research and data analysis.\n",
    "\n",
    "**SQL:** SQL is a language used for managing and querying relational databases. It is a foundational skill for many data science roles, as data is often stored in databases and needs to be accessed and manipulated.\n",
    "\n",
    "**Java:** Java is a general-purpose programming language that is widely used in enterprise software development. It has a number of libraries and frameworks for data processing and analysis, and is a popular choice for building large-scale data pipelines.\n",
    "\n",
    "**Scala:** Scala is a programming language that runs on the Java Virtual Machine (JVM) and is designed to be both functional and object-oriented. It is popular in big data processing and machine learning.\n",
    "\n",
    "**Matlab:** Matlab is a programming language and environment specifically designed for numerical computing, including data analysis and visualization. It is widely used in academic research and engineering."
   ]
  },
  {
   "cell_type": "markdown",
   "id": "81aea40a",
   "metadata": {},
   "source": [
    "### Data Science Libraries\n",
    "Here's a markdown cell to list some popular data science libraries:\n",
    "\n",
    "**NumPy:** NumPy is a library for numerical computing with Python.\n",
    "\n",
    "**Pandas:** Pandas is a library for data manipulation and analysis with Python. \n",
    "\n",
    "**Scikit-learn:** Scikit-learn is a library for machine learning with Python. \n",
    "\n",
    "**TensorFlow:** TensorFlow is a library for building and training machine learning models, particularly deep neural networks.\n",
    "\n",
    "**Keras:** Keras is a high-level API for building and training machine learning models, particularly deep neural networks.\n",
    "\n",
    "**PyTorch:** PyTorch is a library for building and training machine learning models, particularly deep neural networks. "
   ]
  },
  {
   "cell_type": "markdown",
   "id": "4a32a925",
   "metadata": {},
   "source": [
    "### Data Science Tools Table\n",
    "\n",
    "| Tool        | Description           | Language  |\n",
    "| ------------- |:-------------:| -----:|\n",
    "| Jupyter Notebook      | An open-source web application that allows you to create and share documents that contain live code, equations, visualizations, and narrative text. | Python, R |\n",
    "| Apache Hadoop      | A framework that allows for distributed processing of large data sets across clusters of computers.     |   Java, Scala |\n",
    "| Apache Spark | An open-source distributed computing system designed for big data processing and machine learning.     |    Java, Scala, Python |\n",
    "| Apache Kafka | A distributed streaming platform that allows for real-time data processing and messaging.     |    Java, Scala |\n",
    "| Tableau | A business intelligence and data visualization tool that allows you to create interactive dashboards and reports.     |    - |\n",
    "| Power BI | A suite of business analytics tools that allow you to analyze data and share insights.     |    - |\n"
   ]
  },
  {
   "cell_type": "markdown",
   "id": "fe15f40f",
   "metadata": {},
   "source": [
    "### Arithmetic Expression Examples\n",
    "Arithmetic expressions are a fundamental part of any programming language, including Python. They allow us to perform basic mathematical operations such as addition, subtraction, multiplication, and division, among others.\n",
    "\n",
    "Here are some examples of arithmetic expressions:\n",
    "\n",
    "**Addition:** 5 + 3 equals 8\n",
    "**Subtraction:** 10 - 4 equals 6\n",
    "**Multiplication:** 7 * 2 equals 14\n",
    "**Division:** 15 / 3 equals 5\n",
    "**Parentheses:** (2 + 4) * 3 equals 18\n",
    "**Exponentiation:** 2 ** 3 equals 8\n",
    "It's important to note that in programming, the order of operations follows the standard mathematical conventions of parentheses first, then exponentiation, then multiplication and division, and finally addition and subtraction ."
   ]
  },
  {
   "cell_type": "markdown",
   "id": "da8b9356",
   "metadata": {},
   "source": [
    "### Multiply two numbers and add another\n",
    "a = 2\n",
    "b = 3\n",
    "c = 4\n",
    "\n",
    "result = a * b + c\n",
    "print(result)\n"
   ]
  },
  {
   "cell_type": "markdown",
   "id": "20732d6c",
   "metadata": {},
   "source": [
    "### Convert minutes to hours\n",
    "minutes = 150\n",
    "\n",
    "hours = minutes / 60\n",
    "print(hours)\n"
   ]
  },
  {
   "cell_type": "markdown",
   "id": "de953ba3",
   "metadata": {},
   "source": [
    "### Objectives\n",
    "The objectives of this notebook are to:\n",
    "\n",
    "-*Introduce data science languages and libraries\n",
    "-*Provide an overview of data science tools\n",
    "-*Demonstrate the use of arithmetic expressions in Python\n",
    "-*Practice problem-solving with code examples\n",
    "\n",
    "By the end of this notebook, you should have a basic understanding of data science programming concepts and be able to apply them to solve simple problems."
   ]
  },
  {
   "cell_type": "markdown",
   "id": "68941aa4",
   "metadata": {},
   "source": [
    "### Author Name - Harsh Goyal "
   ]
  },
  {
   "cell_type": "code",
   "execution_count": null,
   "id": "362399bb",
   "metadata": {},
   "outputs": [],
   "source": []
  }
 ],
 "metadata": {
  "kernelspec": {
   "display_name": "Python 3 (ipykernel)",
   "language": "python",
   "name": "python3"
  },
  "language_info": {
   "codemirror_mode": {
    "name": "ipython",
    "version": 3
   },
   "file_extension": ".py",
   "mimetype": "text/x-python",
   "name": "python",
   "nbconvert_exporter": "python",
   "pygments_lexer": "ipython3",
   "version": "3.9.13"
  }
 },
 "nbformat": 4,
 "nbformat_minor": 5
}
